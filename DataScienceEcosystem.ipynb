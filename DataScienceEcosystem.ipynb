{
 "cells": [
  {
   "cell_type": "markdown",
   "id": "f93b4c76-0979-4e39-ab2d-6f4414022e58",
   "metadata": {},
   "source": [
    "# Data Science Tools"
   ]
  },
  {
   "cell_type": "markdown",
   "id": "0d1132d6-f4aa-49b9-a0c1-af42ee79c3fe",
   "metadata": {},
   "source": [
    "In this notebook, Data Science Tools and Ecosystem are summerized."
   ]
  },
  {
   "cell_type": "markdown",
   "id": "82dfd4f6-bf29-40fc-a345-21b5a1d11a70",
   "metadata": {},
   "source": [
    "**Objectives:**\n",
    "- Languages used by data scientists have been discussed. Such as: python, R, Java, JS, Julia etc.\n",
    "- Various web based IDEs, cloud based IDEs for DS have been discussed.\n",
    "- A brief discussion on Git/Github.\n",
    "- Various useful libraries used for DS such as pandas/matplotlib/plotly/numpy in python, ggplot in R have also been discussed.\n",
    "- Learned how to use IBM Watson Studio, Jupyter notebook, Jupyter Labs, RStudio for Data Science.\n",
    "      "
   ]
  },
  {
   "cell_type": "markdown",
   "id": "11391d00-2e7d-4cfa-8c83-0c32d6c5b056",
   "metadata": {},
   "source": [
    "Some of the populer languages that Data Scientists use are:\n",
    "1. Python\n",
    "2. R\n",
    "3. SQL\n",
    "4. JavaScript\n",
    "5. Julia\n",
    "6. Java\n",
    "7. MATLAB\n",
    "8. Scala etc."
   ]
  },
  {
   "cell_type": "markdown",
   "id": "a66144ae-d430-4f4d-9c5b-a6b731c4afec",
   "metadata": {},
   "source": [
    "Some of the commonly used libraries used by Data scientists include:\n",
    "1. Pandas\n",
    "2. Numpy\n",
    "3. Matplotlib\n",
    "4. Seaborn etc."
   ]
  },
  {
   "cell_type": "markdown",
   "id": "ae31e9c0-b357-4d33-b14c-3cfbb86c2efe",
   "metadata": {},
   "source": [
    "| Data Science Tools |\n",
    "|--------------------|\n",
    "| Jupyter Notebook |\n",
    "| RStudio |\n",
    "| VSCode |"
   ]
  },
  {
   "cell_type": "markdown",
   "id": "3f3be0ab-425b-42d1-b86a-ea45509695ce",
   "metadata": {},
   "source": [
    "### Below are a few examples of evaluating arithmetic expressions in Python"
   ]
  },
  {
   "cell_type": "code",
   "execution_count": 2,
   "id": "9fbe3c9c-2834-4bfc-bcd0-c92fb56996aa",
   "metadata": {},
   "outputs": [
    {
     "data": {
      "text/plain": [
       "17"
      ]
     },
     "execution_count": 2,
     "metadata": {},
     "output_type": "execute_result"
    }
   ],
   "source": [
    "# This is a simple arithmetic expression to multiply then add integers.\n",
    "(3*4)+5"
   ]
  },
  {
   "cell_type": "code",
   "execution_count": 3,
   "id": "a6826dbd-18c1-48b5-b5d5-25fe5b624c03",
   "metadata": {},
   "outputs": [
    {
     "data": {
      "text/plain": [
       "3.3333333333333335"
      ]
     },
     "execution_count": 3,
     "metadata": {},
     "output_type": "execute_result"
    }
   ],
   "source": [
    "# This will convert 200 minutes to hours by dividing by 60.\n",
    "200/60"
   ]
  },
  {
   "cell_type": "markdown",
   "id": "96b6617c-ffe5-430a-995c-5ade92c48983",
   "metadata": {},
   "source": [
    "## Author\n",
    "Kumod Kumar Gupta"
   ]
  },
  {
   "cell_type": "code",
   "execution_count": null,
   "id": "d1b19261-4175-430b-8272-579e7648571e",
   "metadata": {},
   "outputs": [],
   "source": []
  }
 ],
 "metadata": {
  "kernelspec": {
   "display_name": "Python 3 (ipykernel)",
   "language": "python",
   "name": "python3"
  },
  "language_info": {
   "codemirror_mode": {
    "name": "ipython",
    "version": 3
   },
   "file_extension": ".py",
   "mimetype": "text/x-python",
   "name": "python",
   "nbconvert_exporter": "python",
   "pygments_lexer": "ipython3",
   "version": "3.12.8"
  }
 },
 "nbformat": 4,
 "nbformat_minor": 5
}
